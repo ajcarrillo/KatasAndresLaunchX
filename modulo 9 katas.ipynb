{
 "cells": [
  {
   "cell_type": "markdown",
   "metadata": {},
   "source": [
    "# Ejercicio: Uso de funciones en Python\n",
    "\n",
    "## Ejercicio 1: Trabajar con argumentos en funciones"
   ]
  },
  {
   "cell_type": "code",
   "execution_count": 52,
   "metadata": {},
   "outputs": [
    {
     "name": "stdout",
     "output_type": "stream",
     "text": [
      "Reporte de combustible: \n",
      "\n",
      "Combustible en Tanque 1: 88\n",
      "Combustible en Tanque 2: 76\n",
      "Combustible en Tanque 3: 70\n",
      "\n",
      "Promedio de combustible: 78.0\n"
     ]
    }
   ],
   "source": [
    "def get_report(*fuels):\n",
    "    report = \"Reporte de combustible: \\n\\n\"\n",
    "    tanks = [\"Tanque 1\", \"Tanque 2\", \"Tanque 3\"]\n",
    "    for idx, fuel in enumerate(fuels):\n",
    "        report += \"Combustible en %s: %s\" % (tanks[idx], fuel) +\"\\n\"\n",
    "    report += \"\\nPromedio de combustible: %s\" % get_average(fuels)\n",
    "    return report\n",
    "    \n",
    "\n",
    "def get_average(tanques):\n",
    "    return sum(tanques)/3\n",
    "\n",
    "\n",
    "print(get_report(88,76,70))"
   ]
  },
  {
   "cell_type": "markdown",
   "metadata": {},
   "source": [
    "# Ejercicio 2: Trabajo con argumentos de palabra clave\n",
    "\n",
    "## Ejercicio : Trabajar con argumentos de palabras clave en funciones"
   ]
  },
  {
   "cell_type": "code",
   "execution_count": 56,
   "metadata": {},
   "outputs": [
    {
     "name": "stdout",
     "output_type": "stream",
     "text": [
      "Plan de misión:\n",
      "Destino: Moon\n",
      "Tiempo de vuelo: 65 minutos\n",
      "Combustible disponible: 500000 litros\n"
     ]
    }
   ],
   "source": [
    "def get_mission_report(prelaunch_time, fly_time, destination, external_tank, internal_tank):\n",
    "    report = \"Plan de misión:\"\n",
    "    report += \"\\nDestino: %s\" % (destination)\n",
    "    report += \"\\nTiempo de vuelo: %s minutos\" % (prelaunch_time+fly_time)\n",
    "    report += \"\\nCombustible disponible: %s litros\" % (external_tank+internal_tank)\n",
    "    return report;\n",
    "\n",
    "print(get_mission_report(14, 51, \"Moon\", 200000, 300000))\n"
   ]
  },
  {
   "cell_type": "code",
   "execution_count": 62,
   "metadata": {},
   "outputs": [
    {
     "name": "stdout",
     "output_type": "stream",
     "text": [
      "Plan de misión:\n",
      "Destino: Moon\n",
      "Tiempo de vuelo: 74 minutos\n",
      "Combustible disponible: 500000 litros\n",
      "main tank ----> 300000 left\n",
      "external tank ----> 200000 left\n"
     ]
    }
   ],
   "source": [
    "def get_mission_report(destination, *time, **fuel):\n",
    "    report = \"Plan de misión:\"\n",
    "    report += \"\\nDestino: %s\" % (destination)\n",
    "    report += \"\\nTiempo de vuelo: %s minutos\" % (sum(time))\n",
    "    report += \"\\nCombustible disponible: %s litros\" % (sum(fuel.values()))\n",
    "\n",
    "    for tank_name, litros in fuel.items():\n",
    "        report += \"\\n%s tank ----> %s left\" % (tank_name, litros)\n",
    "\n",
    "    return report;\n",
    "\n",
    "print(get_mission_report(\"Moon\", 8, 11, 55, main=300000, external=200000))\n"
   ]
  }
 ],
 "metadata": {
  "interpreter": {
   "hash": "2f4c2c480374e75d1c46fd57a48c4aacb2b54de1815ac8eb7e5c8f6bd6d9ff9e"
  },
  "kernelspec": {
   "display_name": "Python 3.9.7 ('launchx')",
   "language": "python",
   "name": "python3"
  },
  "language_info": {
   "codemirror_mode": {
    "name": "ipython",
    "version": 3
   },
   "file_extension": ".py",
   "mimetype": "text/x-python",
   "name": "python",
   "nbconvert_exporter": "python",
   "pygments_lexer": "ipython3",
   "version": "3.9.7"
  },
  "orig_nbformat": 4
 },
 "nbformat": 4,
 "nbformat_minor": 2
}
