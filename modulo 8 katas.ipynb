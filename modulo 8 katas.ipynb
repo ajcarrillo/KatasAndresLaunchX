{
 "cells": [
  {
   "cell_type": "markdown",
   "metadata": {},
   "source": [
    "# Ejercicio 1: Creación de diccionarios de Python\n",
    "\n",
    "## Ejercicio: Crear y modificar un diccionario de Python"
   ]
  },
  {
   "cell_type": "code",
   "execution_count": 1,
   "metadata": {},
   "outputs": [
    {
     "name": "stdout",
     "output_type": "stream",
     "text": [
      "Tu planeta es Mars y tiene 2 lunas\n",
      "Tu planeta es Tierra y tiene 1 lunas\n"
     ]
    }
   ],
   "source": [
    "planet = {\n",
    "    'name': 'Mars',\n",
    "    'moons': 2\n",
    "}\n",
    "\n",
    "print(f\"Tu planeta es {planet['name']} y tiene {planet['moons']} lunas\")\n",
    "\n",
    "planet['name'] = 'Tierra'\n",
    "planet['moons'] = 1\n",
    "\n",
    "print(f\"Tu planeta es {planet['name']} y tiene {planet['moons']} lunas\")"
   ]
  },
  {
   "cell_type": "code",
   "execution_count": 2,
   "metadata": {},
   "outputs": [
    {
     "name": "stdout",
     "output_type": "stream",
     "text": [
      "Tu planeta es Mars y su circunferencia polar es 6752\n"
     ]
    }
   ],
   "source": [
    "planet = {\n",
    "    'name': 'Mars',\n",
    "    'moons': 2\n",
    "}\n",
    "\n",
    "planet['circunferencia'] = {\n",
    "    'polar':6752,\n",
    "    'equatorial':6792\n",
    "}\n",
    "\n",
    "print(f\"Tu planeta es {planet['name']} y su circunferencia polar es {planet['circunferencia']['polar']}\")"
   ]
  },
  {
   "cell_type": "markdown",
   "metadata": {},
   "source": [
    "# Ejercicio 2: Programación dinámica con diccionarios\n",
    "\n",
    "## Ejercicio: Cálculo de valores"
   ]
  },
  {
   "cell_type": "code",
   "execution_count": 3,
   "metadata": {},
   "outputs": [
    {
     "name": "stdout",
     "output_type": "stream",
     "text": [
      "El total de lunas es 214 y el promedio es 17.833333333333332\n"
     ]
    }
   ],
   "source": [
    "planet_moons = {\n",
    "    'mercury': 0,\n",
    "    'venus': 0,\n",
    "    'earth': 1,\n",
    "    'mars': 2,\n",
    "    'jupiter': 79,\n",
    "    'saturn': 82,\n",
    "    'uranus': 27,\n",
    "    'neptune': 14,\n",
    "    'pluto': 5,\n",
    "    'haumea': 2,\n",
    "    'makemake': 1,\n",
    "    'eris': 1\n",
    "}\n",
    "\n",
    "moons = sum(planet_moons.values())\n",
    "planets = len(planet_moons.keys())\n",
    "average = moons/planets\n",
    "\n",
    "print(f\"El total de lunas es {moons} y el promedio es {average}\")\n"
   ]
  }
 ],
 "metadata": {
  "interpreter": {
   "hash": "2f4c2c480374e75d1c46fd57a48c4aacb2b54de1815ac8eb7e5c8f6bd6d9ff9e"
  },
  "kernelspec": {
   "display_name": "Python 3.9.7 ('launchx')",
   "language": "python",
   "name": "python3"
  },
  "language_info": {
   "codemirror_mode": {
    "name": "ipython",
    "version": 3
   },
   "file_extension": ".py",
   "mimetype": "text/x-python",
   "name": "python",
   "nbconvert_exporter": "python",
   "pygments_lexer": "ipython3",
   "version": "3.9.7"
  },
  "orig_nbformat": 4
 },
 "nbformat": 4,
 "nbformat_minor": 2
}
