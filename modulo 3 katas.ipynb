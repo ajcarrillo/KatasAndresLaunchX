{
 "cells": [
  {
   "cell_type": "markdown",
   "metadata": {},
   "source": [
    "# Ejercicio - Escribir declaraciones if, else, y elif"
   ]
  },
  {
   "cell_type": "code",
   "execution_count": 1,
   "metadata": {},
   "outputs": [
    {
     "name": "stdout",
     "output_type": "stream",
     "text": [
      "prey god!\n"
     ]
    }
   ],
   "source": [
    "extinction = 25\n",
    "velocidad_asteroide = 49\n",
    "\n",
    "if velocidad_asteroide > extinction:\n",
    "    print(\"prey god!\")\n"
   ]
  },
  {
   "cell_type": "code",
   "execution_count": 2,
   "metadata": {},
   "outputs": [
    {
     "name": "stdout",
     "output_type": "stream",
     "text": [
      "Be quiet\n"
     ]
    }
   ],
   "source": [
    "velocidad_asteroide = 19\n",
    "buscar_estrella_fugaz = 20\n",
    "\n",
    "if velocidad_asteroide >= buscar_estrella_fugaz:\n",
    "    print(\"Buscar estrella fugaz\")\n",
    "else:\n",
    "    print(\"Be quiet\")"
   ]
  },
  {
   "cell_type": "code",
   "execution_count": 4,
   "metadata": {},
   "outputs": [
    {
     "name": "stdout",
     "output_type": "stream",
     "text": [
      "prey good!\n"
     ]
    }
   ],
   "source": [
    "velocidad_asteroide = 26\n",
    "size_asteroide = 40\n",
    "\n",
    "if velocidad_asteroide > 25 and size_asteroide > 25:\n",
    "    print('prey good!')\n",
    "elif velocidad_asteroide >= 20:\n",
    "    print('Mira la estrella fugaz')\n",
    "elif size_asteroide < 25:\n",
    "    print('boring')\n",
    "else:\n",
    "    print('boring')\n"
   ]
  }
 ],
 "metadata": {
  "interpreter": {
   "hash": "2f4c2c480374e75d1c46fd57a48c4aacb2b54de1815ac8eb7e5c8f6bd6d9ff9e"
  },
  "kernelspec": {
   "display_name": "Python 3.9.7 ('launchx')",
   "language": "python",
   "name": "python3"
  },
  "language_info": {
   "codemirror_mode": {
    "name": "ipython",
    "version": 3
   },
   "file_extension": ".py",
   "mimetype": "text/x-python",
   "name": "python",
   "nbconvert_exporter": "python",
   "pygments_lexer": "ipython3",
   "version": "3.9.7"
  },
  "orig_nbformat": 4
 },
 "nbformat": 4,
 "nbformat_minor": 2
}
